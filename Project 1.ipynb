{
 "cells": [
  {
   "cell_type": "markdown",
   "id": "3b0051f9",
   "metadata": {},
   "source": [
    "# Factors Encouraging Fast Food Restaurants to Enter the Market"
   ]
  },
  {
   "cell_type": "code",
   "execution_count": null,
   "id": "c533b18e",
   "metadata": {},
   "outputs": [],
   "source": [
    "medianAge = []\n",
    "\n",
    "for i in range(zipCode_data.shape[0]):\n",
    "    url = zipCode_data['Website'][i]\n",
    "    response = requests.get(url)\n",
    "    soup_object = BeautifulSoup(response.content)\n",
    "    agev = soup_object.find(text = 'Median resident age:')\n",
    "    table = agev.find_next('table')\n",
    "    textvalue = table.find_all('td')[1].text\n",
    "    value = float(re.findall(r'\\d+\\.\\d+', textvalue)[0])\n",
    "    medianAge.append(value)\n",
    "    \n",
    "medianAge"
   ]
  },
  {
   "cell_type": "markdown",
   "id": "9f5581b7",
   "metadata": {},
   "source": [
    "## Introduction\n",
    "\n"
   ]
  },
  {
   "cell_type": "markdown",
   "id": "62a1d1ab",
   "metadata": {},
   "source": [
    "Fast foods composed a large portion of our daily meals. People choose them because of their convenience, cheap price, and tasty flavor, while they also reject these “junk food” due to the high calories.\n",
    "\n",
    "The main dataset contains information about 10000 fast-food restaurants across America. It includes the fast-food restaurants’ names, categories, detailed addresses that contain the street name, city, province, longitude, and altitude, and their websites. The table also recorded the date the fast-food restaurant was added to the dataset, which shows that more and more restaurants were built across America. Restaurants will only enter the market when they can receive profits from doing so, and this project will investigate multiple factors that may contribute to the profit. \n",
    "\n",
    "Normally, fast food is regarded as an inferior good, for which people buy less as their income increases. It is reasonable to assume that cities with lower real household incomes are relatively attractive for fast food restaurants. To minimize the effects of extremely poor and extremely rich, I choose to compare income with median value. Also, as a high total population means high demand for everything, including fast food, more restaurants may appear in the more populated cities. Here incurs a question: which one has a larger impact, population or population density? Additionally, the number and brands of existing competitors are also worth noticing: large brands may enter an existing market and compete with smaller restaurants, and small brands may prefer exploring new markets in cities with few existing fast-food restaurants.\n",
    "\n",
    "In my project, the independent variables are the population, population density, the real income of citizens, and the number and brands of existing restaurants in the city. The analysis will be aiming at how these factors affect the number of fast-food restaurants in each city. The main dataset can be found on Datafiniti, and I cite the data from Kaggle https://www.kaggle.com/datasets/datafiniti/fast-food-restaurants?select=Datafiniti_Fast_Food_Restaurants_May19.csv. The data about population, population density, and real income are imported from Simplemap https://simplemaps.com/data/us-cities."
   ]
  },
  {
   "cell_type": "markdown",
   "id": "30e094b2",
   "metadata": {},
   "source": [
    "## Data Cleaning"
   ]
  },
  {
   "cell_type": "markdown",
   "id": "2f9ad303",
   "metadata": {},
   "source": [
    "Firstly, import the numpy and pandas, read the dataset as a Dataframe."
   ]
  },
  {
   "cell_type": "code",
   "execution_count": 417,
   "id": "a7e1042a",
   "metadata": {
    "scrolled": false
   },
   "outputs": [
    {
     "name": "stdout",
     "output_type": "stream",
     "text": [
      "Top 10 rows:\n"
     ]
    },
    {
     "data": {
      "text/html": [
       "<div>\n",
       "<style scoped>\n",
       "    .dataframe tbody tr th:only-of-type {\n",
       "        vertical-align: middle;\n",
       "    }\n",
       "\n",
       "    .dataframe tbody tr th {\n",
       "        vertical-align: top;\n",
       "    }\n",
       "\n",
       "    .dataframe thead th {\n",
       "        text-align: right;\n",
       "    }\n",
       "</style>\n",
       "<table border=\"1\" class=\"dataframe\">\n",
       "  <thead>\n",
       "    <tr style=\"text-align: right;\">\n",
       "      <th></th>\n",
       "      <th>id</th>\n",
       "      <th>dateAdded</th>\n",
       "      <th>dateUpdated</th>\n",
       "      <th>address</th>\n",
       "      <th>categories</th>\n",
       "      <th>city</th>\n",
       "      <th>country</th>\n",
       "      <th>keys</th>\n",
       "      <th>latitude</th>\n",
       "      <th>longitude</th>\n",
       "      <th>name</th>\n",
       "      <th>postalCode</th>\n",
       "      <th>province</th>\n",
       "      <th>sourceURLs</th>\n",
       "      <th>websites</th>\n",
       "    </tr>\n",
       "  </thead>\n",
       "  <tbody>\n",
       "    <tr>\n",
       "      <th>0</th>\n",
       "      <td>AVwcmSyZIN2L1WUfmxyw</td>\n",
       "      <td>2015-10-19T23:47:58Z</td>\n",
       "      <td>2018-06-26T03:00:14Z</td>\n",
       "      <td>800 N Canal Blvd</td>\n",
       "      <td>American Restaurant and Fast Food Restaurant</td>\n",
       "      <td>Thibodaux</td>\n",
       "      <td>US</td>\n",
       "      <td>us/la/thibodaux/800ncanalblvd/1780593795</td>\n",
       "      <td>29.814697</td>\n",
       "      <td>-90.814742</td>\n",
       "      <td>SONIC Drive In</td>\n",
       "      <td>70301</td>\n",
       "      <td>LA</td>\n",
       "      <td>https://foursquare.com/v/sonic-drive-in/4b7361...</td>\n",
       "      <td>https://locations.sonicdrivein.com/la/thibodau...</td>\n",
       "    </tr>\n",
       "    <tr>\n",
       "      <th>1</th>\n",
       "      <td>AVwcmSyZIN2L1WUfmxyw</td>\n",
       "      <td>2015-10-19T23:47:58Z</td>\n",
       "      <td>2018-06-26T03:00:14Z</td>\n",
       "      <td>800 N Canal Blvd</td>\n",
       "      <td>Fast Food Restaurants</td>\n",
       "      <td>Thibodaux</td>\n",
       "      <td>US</td>\n",
       "      <td>us/la/thibodaux/800ncanalblvd/1780593795</td>\n",
       "      <td>29.814697</td>\n",
       "      <td>-90.814742</td>\n",
       "      <td>SONIC Drive In</td>\n",
       "      <td>70301</td>\n",
       "      <td>LA</td>\n",
       "      <td>https://foursquare.com/v/sonic-drive-in/4b7361...</td>\n",
       "      <td>https://locations.sonicdrivein.com/la/thibodau...</td>\n",
       "    </tr>\n",
       "    <tr>\n",
       "      <th>2</th>\n",
       "      <td>AVwcopQoByjofQCxgfVa</td>\n",
       "      <td>2016-03-29T05:06:36Z</td>\n",
       "      <td>2018-06-26T02:59:52Z</td>\n",
       "      <td>206 Wears Valley Rd</td>\n",
       "      <td>Fast Food Restaurant</td>\n",
       "      <td>Pigeon Forge</td>\n",
       "      <td>US</td>\n",
       "      <td>us/tn/pigeonforge/206wearsvalleyrd/-864103396</td>\n",
       "      <td>35.803788</td>\n",
       "      <td>-83.580553</td>\n",
       "      <td>Taco Bell</td>\n",
       "      <td>37863</td>\n",
       "      <td>TN</td>\n",
       "      <td>https://www.yellowpages.com/pigeon-forge-tn/mi...</td>\n",
       "      <td>http://www.tacobell.com,https://locations.taco...</td>\n",
       "    </tr>\n",
       "    <tr>\n",
       "      <th>3</th>\n",
       "      <td>AVweXN5RByjofQCxxilK</td>\n",
       "      <td>2017-01-03T07:46:11Z</td>\n",
       "      <td>2018-06-26T02:59:51Z</td>\n",
       "      <td>3652 Parkway</td>\n",
       "      <td>Fast Food</td>\n",
       "      <td>Pigeon Forge</td>\n",
       "      <td>US</td>\n",
       "      <td>us/tn/pigeonforge/3652parkway/93075755</td>\n",
       "      <td>35.782339</td>\n",
       "      <td>-83.551408</td>\n",
       "      <td>Arby's</td>\n",
       "      <td>37863</td>\n",
       "      <td>TN</td>\n",
       "      <td>http://www.yellowbook.com/profile/arbys_163389...</td>\n",
       "      <td>http://www.arbys.com,https://locations.arbys.c...</td>\n",
       "    </tr>\n",
       "    <tr>\n",
       "      <th>4</th>\n",
       "      <td>AWQ6MUvo3-Khe5l_j3SG</td>\n",
       "      <td>2018-06-26T02:59:43Z</td>\n",
       "      <td>2018-06-26T02:59:43Z</td>\n",
       "      <td>2118 Mt Zion Parkway</td>\n",
       "      <td>Fast Food Restaurant</td>\n",
       "      <td>Morrow</td>\n",
       "      <td>US</td>\n",
       "      <td>us/ga/morrow/2118mtzionparkway/1305117222</td>\n",
       "      <td>33.562738</td>\n",
       "      <td>-84.321143</td>\n",
       "      <td>Steak 'n Shake</td>\n",
       "      <td>30260</td>\n",
       "      <td>GA</td>\n",
       "      <td>https://foursquare.com/v/steak-n-shake/4bcf77a...</td>\n",
       "      <td>http://www.steaknshake.com/locations/23851-ste...</td>\n",
       "    </tr>\n",
       "    <tr>\n",
       "      <th>5</th>\n",
       "      <td>AVwc57jLkufWRAb50ROs</td>\n",
       "      <td>2015-10-23T23:59:49Z</td>\n",
       "      <td>2018-06-26T02:59:43Z</td>\n",
       "      <td>9768 Grand River Ave</td>\n",
       "      <td>Fast Food Restaurant</td>\n",
       "      <td>Detroit</td>\n",
       "      <td>US</td>\n",
       "      <td>us/mi/detroit/9768grandriverave/-791445730</td>\n",
       "      <td>42.368823</td>\n",
       "      <td>-83.138251</td>\n",
       "      <td>Wendy's</td>\n",
       "      <td>48204</td>\n",
       "      <td>MI</td>\n",
       "      <td>https://foursquare.com/v/wendys/4bfec191e584c9...</td>\n",
       "      <td>http://www.wendys.com</td>\n",
       "    </tr>\n",
       "    <tr>\n",
       "      <th>6</th>\n",
       "      <td>AVwc81QgkufWRAb50vnI</td>\n",
       "      <td>2015-09-21T07:47:08Z</td>\n",
       "      <td>2018-06-26T02:59:43Z</td>\n",
       "      <td>13600 W McNichols Rd</td>\n",
       "      <td>Fast Food Restaurant</td>\n",
       "      <td>Detroit</td>\n",
       "      <td>US</td>\n",
       "      <td>us/mi/detroit/13600wmcnicholsrd/-2061630068</td>\n",
       "      <td>42.416819</td>\n",
       "      <td>-83.180444</td>\n",
       "      <td>Burger King</td>\n",
       "      <td>48235</td>\n",
       "      <td>MI</td>\n",
       "      <td>https://foursquare.com/v/burger-king/4bab7981f...</td>\n",
       "      <td>http://bk.com,http://www.bk.com</td>\n",
       "    </tr>\n",
       "    <tr>\n",
       "      <th>7</th>\n",
       "      <td>AVwdVafPByjofQCxoA6y</td>\n",
       "      <td>2016-06-06T16:15:08Z</td>\n",
       "      <td>2018-06-26T02:59:41Z</td>\n",
       "      <td>4111 Oceanside Blvd</td>\n",
       "      <td>Fast Food</td>\n",
       "      <td>Oceanside</td>\n",
       "      <td>US</td>\n",
       "      <td>us/ca/oceanside/4111oceansideblvd/1143321601</td>\n",
       "      <td>33.205722</td>\n",
       "      <td>-117.288645</td>\n",
       "      <td>Chipotle Mexican Grill</td>\n",
       "      <td>92056</td>\n",
       "      <td>CA</td>\n",
       "      <td>https://www.trip.com/oceanside-ca/restaurants/...</td>\n",
       "      <td>http://www.chipotle.com,http://www.lasalsa.com</td>\n",
       "    </tr>\n",
       "    <tr>\n",
       "      <th>8</th>\n",
       "      <td>AVwc4JQKIN2L1WUfp3hU</td>\n",
       "      <td>2016-12-13T12:34:52Z</td>\n",
       "      <td>2018-06-26T02:59:32Z</td>\n",
       "      <td>162 Old Country Rd</td>\n",
       "      <td>Fast Food Restaurants</td>\n",
       "      <td>Riverhead</td>\n",
       "      <td>US</td>\n",
       "      <td>us/ny/riverhead/162oldcountryrd/267504952</td>\n",
       "      <td>40.937359</td>\n",
       "      <td>-72.650142</td>\n",
       "      <td>7-Eleven</td>\n",
       "      <td>11901</td>\n",
       "      <td>NY</td>\n",
       "      <td>http://www.local.com/business/details/yx/river...</td>\n",
       "      <td>http://www.7-eleven.com/?yext=39326,http://www...</td>\n",
       "    </tr>\n",
       "    <tr>\n",
       "      <th>9</th>\n",
       "      <td>AVwdhkOGByjofQCxp9qV</td>\n",
       "      <td>2016-04-16T16:20:41Z</td>\n",
       "      <td>2018-06-25T12:05:40Z</td>\n",
       "      <td>1407 S Stockton Ave</td>\n",
       "      <td>Fast Food Restaurant</td>\n",
       "      <td>Monahans</td>\n",
       "      <td>US</td>\n",
       "      <td>us/tx/monahans/1407sstocktonave/-1721138121</td>\n",
       "      <td>31.580721</td>\n",
       "      <td>-102.891455</td>\n",
       "      <td>Dairy Queen</td>\n",
       "      <td>79756</td>\n",
       "      <td>TX</td>\n",
       "      <td>https://foursquare.com/v/dairy-queen/4bd4fd7b6...</td>\n",
       "      <td>http://www.dairyqueen.com,http://api.citygridm...</td>\n",
       "    </tr>\n",
       "  </tbody>\n",
       "</table>\n",
       "</div>"
      ],
      "text/plain": [
       "                     id             dateAdded           dateUpdated  \\\n",
       "0  AVwcmSyZIN2L1WUfmxyw  2015-10-19T23:47:58Z  2018-06-26T03:00:14Z   \n",
       "1  AVwcmSyZIN2L1WUfmxyw  2015-10-19T23:47:58Z  2018-06-26T03:00:14Z   \n",
       "2  AVwcopQoByjofQCxgfVa  2016-03-29T05:06:36Z  2018-06-26T02:59:52Z   \n",
       "3  AVweXN5RByjofQCxxilK  2017-01-03T07:46:11Z  2018-06-26T02:59:51Z   \n",
       "4  AWQ6MUvo3-Khe5l_j3SG  2018-06-26T02:59:43Z  2018-06-26T02:59:43Z   \n",
       "5  AVwc57jLkufWRAb50ROs  2015-10-23T23:59:49Z  2018-06-26T02:59:43Z   \n",
       "6  AVwc81QgkufWRAb50vnI  2015-09-21T07:47:08Z  2018-06-26T02:59:43Z   \n",
       "7  AVwdVafPByjofQCxoA6y  2016-06-06T16:15:08Z  2018-06-26T02:59:41Z   \n",
       "8  AVwc4JQKIN2L1WUfp3hU  2016-12-13T12:34:52Z  2018-06-26T02:59:32Z   \n",
       "9  AVwdhkOGByjofQCxp9qV  2016-04-16T16:20:41Z  2018-06-25T12:05:40Z   \n",
       "\n",
       "                address                                    categories  \\\n",
       "0      800 N Canal Blvd  American Restaurant and Fast Food Restaurant   \n",
       "1      800 N Canal Blvd                         Fast Food Restaurants   \n",
       "2   206 Wears Valley Rd                          Fast Food Restaurant   \n",
       "3          3652 Parkway                                     Fast Food   \n",
       "4  2118 Mt Zion Parkway                          Fast Food Restaurant   \n",
       "5  9768 Grand River Ave                          Fast Food Restaurant   \n",
       "6  13600 W McNichols Rd                          Fast Food Restaurant   \n",
       "7   4111 Oceanside Blvd                                     Fast Food   \n",
       "8    162 Old Country Rd                         Fast Food Restaurants   \n",
       "9   1407 S Stockton Ave                          Fast Food Restaurant   \n",
       "\n",
       "           city country                                           keys  \\\n",
       "0     Thibodaux      US       us/la/thibodaux/800ncanalblvd/1780593795   \n",
       "1     Thibodaux      US       us/la/thibodaux/800ncanalblvd/1780593795   \n",
       "2  Pigeon Forge      US  us/tn/pigeonforge/206wearsvalleyrd/-864103396   \n",
       "3  Pigeon Forge      US         us/tn/pigeonforge/3652parkway/93075755   \n",
       "4        Morrow      US      us/ga/morrow/2118mtzionparkway/1305117222   \n",
       "5       Detroit      US     us/mi/detroit/9768grandriverave/-791445730   \n",
       "6       Detroit      US    us/mi/detroit/13600wmcnicholsrd/-2061630068   \n",
       "7     Oceanside      US   us/ca/oceanside/4111oceansideblvd/1143321601   \n",
       "8     Riverhead      US      us/ny/riverhead/162oldcountryrd/267504952   \n",
       "9      Monahans      US    us/tx/monahans/1407sstocktonave/-1721138121   \n",
       "\n",
       "    latitude   longitude                    name postalCode province  \\\n",
       "0  29.814697  -90.814742          SONIC Drive In      70301       LA   \n",
       "1  29.814697  -90.814742          SONIC Drive In      70301       LA   \n",
       "2  35.803788  -83.580553               Taco Bell      37863       TN   \n",
       "3  35.782339  -83.551408                  Arby's      37863       TN   \n",
       "4  33.562738  -84.321143          Steak 'n Shake      30260       GA   \n",
       "5  42.368823  -83.138251                 Wendy's      48204       MI   \n",
       "6  42.416819  -83.180444             Burger King      48235       MI   \n",
       "7  33.205722 -117.288645  Chipotle Mexican Grill      92056       CA   \n",
       "8  40.937359  -72.650142                7-Eleven      11901       NY   \n",
       "9  31.580721 -102.891455             Dairy Queen      79756       TX   \n",
       "\n",
       "                                          sourceURLs  \\\n",
       "0  https://foursquare.com/v/sonic-drive-in/4b7361...   \n",
       "1  https://foursquare.com/v/sonic-drive-in/4b7361...   \n",
       "2  https://www.yellowpages.com/pigeon-forge-tn/mi...   \n",
       "3  http://www.yellowbook.com/profile/arbys_163389...   \n",
       "4  https://foursquare.com/v/steak-n-shake/4bcf77a...   \n",
       "5  https://foursquare.com/v/wendys/4bfec191e584c9...   \n",
       "6  https://foursquare.com/v/burger-king/4bab7981f...   \n",
       "7  https://www.trip.com/oceanside-ca/restaurants/...   \n",
       "8  http://www.local.com/business/details/yx/river...   \n",
       "9  https://foursquare.com/v/dairy-queen/4bd4fd7b6...   \n",
       "\n",
       "                                            websites  \n",
       "0  https://locations.sonicdrivein.com/la/thibodau...  \n",
       "1  https://locations.sonicdrivein.com/la/thibodau...  \n",
       "2  http://www.tacobell.com,https://locations.taco...  \n",
       "3  http://www.arbys.com,https://locations.arbys.c...  \n",
       "4  http://www.steaknshake.com/locations/23851-ste...  \n",
       "5                              http://www.wendys.com  \n",
       "6                    http://bk.com,http://www.bk.com  \n",
       "7     http://www.chipotle.com,http://www.lasalsa.com  \n",
       "8  http://www.7-eleven.com/?yext=39326,http://www...  \n",
       "9  http://www.dairyqueen.com,http://api.citygridm...  "
      ]
     },
     "execution_count": 417,
     "metadata": {},
     "output_type": "execute_result"
    }
   ],
   "source": [
    "import numpy as np\n",
    "import pandas as pd\n",
    "import matplotlib.colors as mplc\n",
    "import matplotlib.patches as patches\n",
    "import matplotlib.pyplot as plt\n",
    "\n",
    "fastfood_data = pd.read_csv('Datafiniti_Fast_Food_Restaurants.csv')\n",
    "print(\"Top 10 rows:\")\n",
    "fastfood_data.head(10)"
   ]
  },
  {
   "cell_type": "markdown",
   "id": "5a263b58",
   "metadata": {},
   "source": [
    "Check whether there is any data missing:"
   ]
  },
  {
   "cell_type": "code",
   "execution_count": 418,
   "id": "5212bd6d",
   "metadata": {},
   "outputs": [
    {
     "data": {
      "text/plain": [
       "id             0\n",
       "dateAdded      0\n",
       "dateUpdated    0\n",
       "address        0\n",
       "categories     0\n",
       "city           0\n",
       "country        0\n",
       "keys           0\n",
       "latitude       0\n",
       "longitude      0\n",
       "name           0\n",
       "postalCode     0\n",
       "province       0\n",
       "sourceURLs     0\n",
       "websites       0\n",
       "dtype: int64"
      ]
     },
     "execution_count": 418,
     "metadata": {},
     "output_type": "execute_result"
    }
   ],
   "source": [
    "fastfood_data.isnull().sum()"
   ]
  },
  {
   "cell_type": "markdown",
   "id": "d57179c5",
   "metadata": {},
   "source": [
    "The names of restaurants in this dataset have some errors, for example, there exist \"McDonald's\" and \"McDonalds\" represent the same brand but are not counted together."
   ]
  },
  {
   "cell_type": "code",
   "execution_count": 419,
   "id": "3de52357",
   "metadata": {},
   "outputs": [
    {
     "data": {
      "text/plain": [
       "McDonald's         1898\n",
       "Taco Bell          1032\n",
       "Burger King         833\n",
       "Subway              776\n",
       "Arby's              663\n",
       "Wendy's             628\n",
       "Jack in the Box     330\n",
       "Pizza Hut           230\n",
       "Dairy Queen         218\n",
       "Domino's Pizza      215\n",
       "Name: name, dtype: int64"
      ]
     },
     "execution_count": 419,
     "metadata": {},
     "output_type": "execute_result"
    }
   ],
   "source": [
    "fastfood_data.name.value_counts()[0:10]"
   ]
  },
  {
   "cell_type": "code",
   "execution_count": 420,
   "id": "0a06dafd",
   "metadata": {},
   "outputs": [
    {
     "data": {
      "text/plain": [
       "McDonalds          1940\n",
       "Taco Bell          1032\n",
       "Burger King         833\n",
       "Subway              776\n",
       "Arbys               666\n",
       "Wendys              628\n",
       "Jack in the Box     330\n",
       "Pizza Hut           230\n",
       "Dairy Queen         218\n",
       "Dominos Pizza       215\n",
       "Name: name, dtype: int64"
      ]
     },
     "execution_count": 420,
     "metadata": {},
     "output_type": "execute_result"
    }
   ],
   "source": [
    "import string\n",
    "\n",
    "fastfood_data.name=fastfood_data.name.apply(lambda a:''.join([i for i in a \n",
    "                            if i not in string.punctuation]))\n",
    "\n",
    "fastfood_data.name.value_counts()[:10]"
   ]
  },
  {
   "cell_type": "markdown",
   "id": "58a27c69",
   "metadata": {},
   "source": [
    "Import the population and income data."
   ]
  },
  {
   "cell_type": "code",
   "execution_count": 421,
   "id": "4bfc081a",
   "metadata": {},
   "outputs": [
    {
     "name": "stdout",
     "output_type": "stream",
     "text": [
      "Top 10 rows:\n"
     ]
    },
    {
     "data": {
      "text/html": [
       "<div>\n",
       "<style scoped>\n",
       "    .dataframe tbody tr th:only-of-type {\n",
       "        vertical-align: middle;\n",
       "    }\n",
       "\n",
       "    .dataframe tbody tr th {\n",
       "        vertical-align: top;\n",
       "    }\n",
       "\n",
       "    .dataframe thead th {\n",
       "        text-align: right;\n",
       "    }\n",
       "</style>\n",
       "<table border=\"1\" class=\"dataframe\">\n",
       "  <thead>\n",
       "    <tr style=\"text-align: right;\">\n",
       "      <th></th>\n",
       "      <th>city</th>\n",
       "      <th>province</th>\n",
       "      <th>lat</th>\n",
       "      <th>lng</th>\n",
       "      <th>population</th>\n",
       "      <th>population_proper</th>\n",
       "      <th>density</th>\n",
       "      <th>income_household_median</th>\n",
       "    </tr>\n",
       "  </thead>\n",
       "  <tbody>\n",
       "    <tr>\n",
       "      <th>0</th>\n",
       "      <td>New York</td>\n",
       "      <td>NY</td>\n",
       "      <td>40.6943</td>\n",
       "      <td>-73.9249</td>\n",
       "      <td>18972871.0</td>\n",
       "      <td>8736047.0</td>\n",
       "      <td>10768.2</td>\n",
       "      <td>70663.0</td>\n",
       "    </tr>\n",
       "    <tr>\n",
       "      <th>1</th>\n",
       "      <td>Los Angeles</td>\n",
       "      <td>CA</td>\n",
       "      <td>34.1141</td>\n",
       "      <td>-118.4068</td>\n",
       "      <td>12121244.0</td>\n",
       "      <td>3902440.0</td>\n",
       "      <td>3267.6</td>\n",
       "      <td>69778.0</td>\n",
       "    </tr>\n",
       "    <tr>\n",
       "      <th>2</th>\n",
       "      <td>Chicago</td>\n",
       "      <td>IL</td>\n",
       "      <td>41.8375</td>\n",
       "      <td>-87.6866</td>\n",
       "      <td>8595181.0</td>\n",
       "      <td>2742119.0</td>\n",
       "      <td>4576.6</td>\n",
       "      <td>65781.0</td>\n",
       "    </tr>\n",
       "    <tr>\n",
       "      <th>3</th>\n",
       "      <td>Miami</td>\n",
       "      <td>FL</td>\n",
       "      <td>25.7840</td>\n",
       "      <td>-80.2101</td>\n",
       "      <td>5711945.0</td>\n",
       "      <td>440807.0</td>\n",
       "      <td>4945.7</td>\n",
       "      <td>47860.0</td>\n",
       "    </tr>\n",
       "    <tr>\n",
       "      <th>4</th>\n",
       "      <td>Dallas</td>\n",
       "      <td>TX</td>\n",
       "      <td>32.7935</td>\n",
       "      <td>-96.7667</td>\n",
       "      <td>5668165.0</td>\n",
       "      <td>1300239.0</td>\n",
       "      <td>1522.2</td>\n",
       "      <td>58231.0</td>\n",
       "    </tr>\n",
       "    <tr>\n",
       "      <th>5</th>\n",
       "      <td>Houston</td>\n",
       "      <td>TX</td>\n",
       "      <td>29.7860</td>\n",
       "      <td>-95.3885</td>\n",
       "      <td>5650910.0</td>\n",
       "      <td>2293288.0</td>\n",
       "      <td>1394.6</td>\n",
       "      <td>56019.0</td>\n",
       "    </tr>\n",
       "    <tr>\n",
       "      <th>6</th>\n",
       "      <td>Philadelphia</td>\n",
       "      <td>PA</td>\n",
       "      <td>40.0077</td>\n",
       "      <td>-75.1339</td>\n",
       "      <td>5512873.0</td>\n",
       "      <td>1596865.0</td>\n",
       "      <td>4544.9</td>\n",
       "      <td>52649.0</td>\n",
       "    </tr>\n",
       "    <tr>\n",
       "      <th>7</th>\n",
       "      <td>Atlanta</td>\n",
       "      <td>GA</td>\n",
       "      <td>33.7628</td>\n",
       "      <td>-84.4220</td>\n",
       "      <td>5046555.0</td>\n",
       "      <td>492204.0</td>\n",
       "      <td>1419.9</td>\n",
       "      <td>69164.0</td>\n",
       "    </tr>\n",
       "    <tr>\n",
       "      <th>8</th>\n",
       "      <td>Washington</td>\n",
       "      <td>DC</td>\n",
       "      <td>38.9047</td>\n",
       "      <td>-77.0163</td>\n",
       "      <td>4810669.0</td>\n",
       "      <td>683154.0</td>\n",
       "      <td>4434.0</td>\n",
       "      <td>93547.0</td>\n",
       "    </tr>\n",
       "    <tr>\n",
       "      <th>9</th>\n",
       "      <td>Boston</td>\n",
       "      <td>MA</td>\n",
       "      <td>42.3188</td>\n",
       "      <td>-71.0852</td>\n",
       "      <td>4208580.0</td>\n",
       "      <td>672814.0</td>\n",
       "      <td>5505.8</td>\n",
       "      <td>81744.0</td>\n",
       "    </tr>\n",
       "  </tbody>\n",
       "</table>\n",
       "</div>"
      ],
      "text/plain": [
       "           city province      lat       lng  population  population_proper  \\\n",
       "0      New York       NY  40.6943  -73.9249  18972871.0          8736047.0   \n",
       "1   Los Angeles       CA  34.1141 -118.4068  12121244.0          3902440.0   \n",
       "2       Chicago       IL  41.8375  -87.6866   8595181.0          2742119.0   \n",
       "3         Miami       FL  25.7840  -80.2101   5711945.0           440807.0   \n",
       "4        Dallas       TX  32.7935  -96.7667   5668165.0          1300239.0   \n",
       "5       Houston       TX  29.7860  -95.3885   5650910.0          2293288.0   \n",
       "6  Philadelphia       PA  40.0077  -75.1339   5512873.0          1596865.0   \n",
       "7       Atlanta       GA  33.7628  -84.4220   5046555.0           492204.0   \n",
       "8    Washington       DC  38.9047  -77.0163   4810669.0           683154.0   \n",
       "9        Boston       MA  42.3188  -71.0852   4208580.0           672814.0   \n",
       "\n",
       "   density  income_household_median  \n",
       "0  10768.2                  70663.0  \n",
       "1   3267.6                  69778.0  \n",
       "2   4576.6                  65781.0  \n",
       "3   4945.7                  47860.0  \n",
       "4   1522.2                  58231.0  \n",
       "5   1394.6                  56019.0  \n",
       "6   4544.9                  52649.0  \n",
       "7   1419.9                  69164.0  \n",
       "8   4434.0                  93547.0  \n",
       "9   5505.8                  81744.0  "
      ]
     },
     "execution_count": 421,
     "metadata": {},
     "output_type": "execute_result"
    }
   ],
   "source": [
    "pop_data = pd.read_csv('uscities.csv')\n",
    "print(\"Top 10 rows:\")\n",
    "pop_data.head(10)"
   ]
  },
  {
   "cell_type": "markdown",
   "id": "183a81fc",
   "metadata": {},
   "source": [
    "Check whether there is data missing:"
   ]
  },
  {
   "cell_type": "code",
   "execution_count": 422,
   "id": "3399e6fb",
   "metadata": {},
   "outputs": [
    {
     "data": {
      "text/plain": [
       "city                           0\n",
       "province                       0\n",
       "lat                            0\n",
       "lng                            0\n",
       "population                 74240\n",
       "population_proper          74240\n",
       "density                        0\n",
       "income_household_median    77708\n",
       "dtype: int64"
      ]
     },
     "execution_count": 422,
     "metadata": {},
     "output_type": "execute_result"
    }
   ],
   "source": [
    "pop_data.isnull().sum()"
   ]
  },
  {
   "cell_type": "markdown",
   "id": "4dca5591",
   "metadata": {},
   "source": [
    "Remove the rows with null data:"
   ]
  },
  {
   "cell_type": "code",
   "execution_count": 423,
   "id": "c28bea6b",
   "metadata": {},
   "outputs": [
    {
     "data": {
      "text/plain": [
       "city                       0\n",
       "province                   0\n",
       "lat                        0\n",
       "lng                        0\n",
       "population                 0\n",
       "population_proper          0\n",
       "density                    0\n",
       "income_household_median    0\n",
       "dtype: int64"
      ]
     },
     "execution_count": 423,
     "metadata": {},
     "output_type": "execute_result"
    }
   ],
   "source": [
    "pop_data = pop_data.dropna()\n",
    "pop_data.isnull().sum()"
   ]
  },
  {
   "cell_type": "markdown",
   "id": "b982ceac",
   "metadata": {},
   "source": [
    "## Summary Statistics Tables"
   ]
  },
  {
   "cell_type": "markdown",
   "id": "100490de",
   "metadata": {},
   "source": [
    "In this project, only the date added, city name, and the restaurant name are required."
   ]
  },
  {
   "cell_type": "code",
   "execution_count": 424,
   "id": "b9c7194b",
   "metadata": {},
   "outputs": [
    {
     "data": {
      "text/html": [
       "<div>\n",
       "<style scoped>\n",
       "    .dataframe tbody tr th:only-of-type {\n",
       "        vertical-align: middle;\n",
       "    }\n",
       "\n",
       "    .dataframe tbody tr th {\n",
       "        vertical-align: top;\n",
       "    }\n",
       "\n",
       "    .dataframe thead th {\n",
       "        text-align: right;\n",
       "    }\n",
       "</style>\n",
       "<table border=\"1\" class=\"dataframe\">\n",
       "  <thead>\n",
       "    <tr style=\"text-align: right;\">\n",
       "      <th></th>\n",
       "      <th>dateAdded</th>\n",
       "      <th>city</th>\n",
       "      <th>name</th>\n",
       "    </tr>\n",
       "  </thead>\n",
       "  <tbody>\n",
       "    <tr>\n",
       "      <th>0</th>\n",
       "      <td>2015-10-19T23:47:58Z</td>\n",
       "      <td>Thibodaux</td>\n",
       "      <td>SONIC Drive In</td>\n",
       "    </tr>\n",
       "    <tr>\n",
       "      <th>1</th>\n",
       "      <td>2015-10-19T23:47:58Z</td>\n",
       "      <td>Thibodaux</td>\n",
       "      <td>SONIC Drive In</td>\n",
       "    </tr>\n",
       "    <tr>\n",
       "      <th>2</th>\n",
       "      <td>2016-03-29T05:06:36Z</td>\n",
       "      <td>Pigeon Forge</td>\n",
       "      <td>Taco Bell</td>\n",
       "    </tr>\n",
       "    <tr>\n",
       "      <th>3</th>\n",
       "      <td>2017-01-03T07:46:11Z</td>\n",
       "      <td>Pigeon Forge</td>\n",
       "      <td>Arbys</td>\n",
       "    </tr>\n",
       "    <tr>\n",
       "      <th>4</th>\n",
       "      <td>2018-06-26T02:59:43Z</td>\n",
       "      <td>Morrow</td>\n",
       "      <td>Steak n Shake</td>\n",
       "    </tr>\n",
       "    <tr>\n",
       "      <th>5</th>\n",
       "      <td>2015-10-23T23:59:49Z</td>\n",
       "      <td>Detroit</td>\n",
       "      <td>Wendys</td>\n",
       "    </tr>\n",
       "    <tr>\n",
       "      <th>6</th>\n",
       "      <td>2015-09-21T07:47:08Z</td>\n",
       "      <td>Detroit</td>\n",
       "      <td>Burger King</td>\n",
       "    </tr>\n",
       "    <tr>\n",
       "      <th>7</th>\n",
       "      <td>2016-06-06T16:15:08Z</td>\n",
       "      <td>Oceanside</td>\n",
       "      <td>Chipotle Mexican Grill</td>\n",
       "    </tr>\n",
       "    <tr>\n",
       "      <th>8</th>\n",
       "      <td>2016-12-13T12:34:52Z</td>\n",
       "      <td>Riverhead</td>\n",
       "      <td>7Eleven</td>\n",
       "    </tr>\n",
       "    <tr>\n",
       "      <th>9</th>\n",
       "      <td>2016-04-16T16:20:41Z</td>\n",
       "      <td>Monahans</td>\n",
       "      <td>Dairy Queen</td>\n",
       "    </tr>\n",
       "  </tbody>\n",
       "</table>\n",
       "</div>"
      ],
      "text/plain": [
       "              dateAdded          city                    name\n",
       "0  2015-10-19T23:47:58Z     Thibodaux          SONIC Drive In\n",
       "1  2015-10-19T23:47:58Z     Thibodaux          SONIC Drive In\n",
       "2  2016-03-29T05:06:36Z  Pigeon Forge               Taco Bell\n",
       "3  2017-01-03T07:46:11Z  Pigeon Forge                   Arbys\n",
       "4  2018-06-26T02:59:43Z        Morrow           Steak n Shake\n",
       "5  2015-10-23T23:59:49Z       Detroit                  Wendys\n",
       "6  2015-09-21T07:47:08Z       Detroit             Burger King\n",
       "7  2016-06-06T16:15:08Z     Oceanside  Chipotle Mexican Grill\n",
       "8  2016-12-13T12:34:52Z     Riverhead                 7Eleven\n",
       "9  2016-04-16T16:20:41Z      Monahans             Dairy Queen"
      ]
     },
     "execution_count": 424,
     "metadata": {},
     "output_type": "execute_result"
    }
   ],
   "source": [
    "fastfood_data = fastfood_data.drop(fastfood_data.columns[[0, 2, 3, 4, 6, 7, 8, 9, 11, 12, 13, 14]], axis=1)\n",
    "fastfood_data.head(10)"
   ]
  },
  {
   "cell_type": "markdown",
   "id": "dbd7d236",
   "metadata": {},
   "source": [
    "Then count the number of restaurants in the same city."
   ]
  },
  {
   "cell_type": "code",
   "execution_count": 425,
   "id": "735bcf14",
   "metadata": {},
   "outputs": [
    {
     "name": "stdout",
     "output_type": "stream",
     "text": [
      "The number of cities in the list is:\n",
      "2764\n"
     ]
    }
   ],
   "source": [
    "cityList = fastfood_data.city.value_counts()\n",
    "print('The number of cities in the list is:')\n",
    "print(cityList.shape[0])"
   ]
  },
  {
   "cell_type": "markdown",
   "id": "41bc6964",
   "metadata": {},
   "source": [
    "Restructure the data to a dataframe and set city name as index."
   ]
  },
  {
   "cell_type": "code",
   "execution_count": 426,
   "id": "d4e81443",
   "metadata": {},
   "outputs": [
    {
     "data": {
      "text/html": [
       "<div>\n",
       "<style scoped>\n",
       "    .dataframe tbody tr th:only-of-type {\n",
       "        vertical-align: middle;\n",
       "    }\n",
       "\n",
       "    .dataframe tbody tr th {\n",
       "        vertical-align: top;\n",
       "    }\n",
       "\n",
       "    .dataframe thead th {\n",
       "        text-align: right;\n",
       "    }\n",
       "</style>\n",
       "<table border=\"1\" class=\"dataframe\">\n",
       "  <thead>\n",
       "    <tr style=\"text-align: right;\">\n",
       "      <th></th>\n",
       "      <th>number_of_restaurants</th>\n",
       "    </tr>\n",
       "    <tr>\n",
       "      <th>city</th>\n",
       "      <th></th>\n",
       "    </tr>\n",
       "  </thead>\n",
       "  <tbody>\n",
       "    <tr>\n",
       "      <th>Houston</th>\n",
       "      <td>107</td>\n",
       "    </tr>\n",
       "    <tr>\n",
       "      <th>Las Vegas</th>\n",
       "      <td>82</td>\n",
       "    </tr>\n",
       "    <tr>\n",
       "      <th>Phoenix</th>\n",
       "      <td>78</td>\n",
       "    </tr>\n",
       "    <tr>\n",
       "      <th>Columbus</th>\n",
       "      <td>72</td>\n",
       "    </tr>\n",
       "    <tr>\n",
       "      <th>Dallas</th>\n",
       "      <td>66</td>\n",
       "    </tr>\n",
       "    <tr>\n",
       "      <th>Orlando</th>\n",
       "      <td>65</td>\n",
       "    </tr>\n",
       "    <tr>\n",
       "      <th>Los Angeles</th>\n",
       "      <td>64</td>\n",
       "    </tr>\n",
       "    <tr>\n",
       "      <th>Miami</th>\n",
       "      <td>62</td>\n",
       "    </tr>\n",
       "    <tr>\n",
       "      <th>Chicago</th>\n",
       "      <td>57</td>\n",
       "    </tr>\n",
       "    <tr>\n",
       "      <th>San Antonio</th>\n",
       "      <td>54</td>\n",
       "    </tr>\n",
       "  </tbody>\n",
       "</table>\n",
       "</div>"
      ],
      "text/plain": [
       "             number_of_restaurants\n",
       "city                              \n",
       "Houston                        107\n",
       "Las Vegas                       82\n",
       "Phoenix                         78\n",
       "Columbus                        72\n",
       "Dallas                          66\n",
       "Orlando                         65\n",
       "Los Angeles                     64\n",
       "Miami                           62\n",
       "Chicago                         57\n",
       "San Antonio                     54"
      ]
     },
     "execution_count": 426,
     "metadata": {},
     "output_type": "execute_result"
    }
   ],
   "source": [
    "city_data = cityList.to_frame()\n",
    "city_data = city_data.reset_index()\n",
    "city_data = city_data.rename(columns = {\"index\": \"city\", \"city\": \"number_of_restaurants\"})\n",
    "city_data = city_data.set_index(\"city\")\n",
    "city_data.head(10)"
   ]
  },
  {
   "cell_type": "markdown",
   "id": "42cc3d76",
   "metadata": {},
   "source": [
    "In the second dataset, keep three columns. The population represents the number of people living in the urban area of that city; density is calculated by population per square kilometer; income is measured by the median household salary."
   ]
  },
  {
   "cell_type": "code",
   "execution_count": 427,
   "id": "29b17102",
   "metadata": {},
   "outputs": [
    {
     "data": {
      "text/html": [
       "<div>\n",
       "<style scoped>\n",
       "    .dataframe tbody tr th:only-of-type {\n",
       "        vertical-align: middle;\n",
       "    }\n",
       "\n",
       "    .dataframe tbody tr th {\n",
       "        vertical-align: top;\n",
       "    }\n",
       "\n",
       "    .dataframe thead th {\n",
       "        text-align: right;\n",
       "    }\n",
       "</style>\n",
       "<table border=\"1\" class=\"dataframe\">\n",
       "  <thead>\n",
       "    <tr style=\"text-align: right;\">\n",
       "      <th></th>\n",
       "      <th>city</th>\n",
       "      <th>population</th>\n",
       "      <th>density</th>\n",
       "      <th>income_household_median</th>\n",
       "    </tr>\n",
       "  </thead>\n",
       "  <tbody>\n",
       "    <tr>\n",
       "      <th>0</th>\n",
       "      <td>New York</td>\n",
       "      <td>18972871.0</td>\n",
       "      <td>10768.2</td>\n",
       "      <td>70663.0</td>\n",
       "    </tr>\n",
       "    <tr>\n",
       "      <th>1</th>\n",
       "      <td>Los Angeles</td>\n",
       "      <td>12121244.0</td>\n",
       "      <td>3267.6</td>\n",
       "      <td>69778.0</td>\n",
       "    </tr>\n",
       "    <tr>\n",
       "      <th>2</th>\n",
       "      <td>Chicago</td>\n",
       "      <td>8595181.0</td>\n",
       "      <td>4576.6</td>\n",
       "      <td>65781.0</td>\n",
       "    </tr>\n",
       "    <tr>\n",
       "      <th>3</th>\n",
       "      <td>Miami</td>\n",
       "      <td>5711945.0</td>\n",
       "      <td>4945.7</td>\n",
       "      <td>47860.0</td>\n",
       "    </tr>\n",
       "    <tr>\n",
       "      <th>4</th>\n",
       "      <td>Dallas</td>\n",
       "      <td>5668165.0</td>\n",
       "      <td>1522.2</td>\n",
       "      <td>58231.0</td>\n",
       "    </tr>\n",
       "    <tr>\n",
       "      <th>5</th>\n",
       "      <td>Houston</td>\n",
       "      <td>5650910.0</td>\n",
       "      <td>1394.6</td>\n",
       "      <td>56019.0</td>\n",
       "    </tr>\n",
       "    <tr>\n",
       "      <th>6</th>\n",
       "      <td>Philadelphia</td>\n",
       "      <td>5512873.0</td>\n",
       "      <td>4544.9</td>\n",
       "      <td>52649.0</td>\n",
       "    </tr>\n",
       "    <tr>\n",
       "      <th>7</th>\n",
       "      <td>Atlanta</td>\n",
       "      <td>5046555.0</td>\n",
       "      <td>1419.9</td>\n",
       "      <td>69164.0</td>\n",
       "    </tr>\n",
       "    <tr>\n",
       "      <th>8</th>\n",
       "      <td>Washington</td>\n",
       "      <td>4810669.0</td>\n",
       "      <td>4434.0</td>\n",
       "      <td>93547.0</td>\n",
       "    </tr>\n",
       "    <tr>\n",
       "      <th>9</th>\n",
       "      <td>Boston</td>\n",
       "      <td>4208580.0</td>\n",
       "      <td>5505.8</td>\n",
       "      <td>81744.0</td>\n",
       "    </tr>\n",
       "  </tbody>\n",
       "</table>\n",
       "</div>"
      ],
      "text/plain": [
       "           city  population  density  income_household_median\n",
       "0      New York  18972871.0  10768.2                  70663.0\n",
       "1   Los Angeles  12121244.0   3267.6                  69778.0\n",
       "2       Chicago   8595181.0   4576.6                  65781.0\n",
       "3         Miami   5711945.0   4945.7                  47860.0\n",
       "4        Dallas   5668165.0   1522.2                  58231.0\n",
       "5       Houston   5650910.0   1394.6                  56019.0\n",
       "6  Philadelphia   5512873.0   4544.9                  52649.0\n",
       "7       Atlanta   5046555.0   1419.9                  69164.0\n",
       "8    Washington   4810669.0   4434.0                  93547.0\n",
       "9        Boston   4208580.0   5505.8                  81744.0"
      ]
     },
     "execution_count": 427,
     "metadata": {},
     "output_type": "execute_result"
    }
   ],
   "source": [
    "population_by_city = pop_data.drop(population_data2.columns[[0, 1, 2, 4]], axis = 1)\n",
    "population_by_city.head(10)"
   ]
  },
  {
   "cell_type": "markdown",
   "id": "eedf8ef6",
   "metadata": {},
   "source": [
    "Merge these two tables and remove rows that contain null."
   ]
  },
  {
   "cell_type": "code",
   "execution_count": 428,
   "id": "a1b223e1",
   "metadata": {},
   "outputs": [
    {
     "data": {
      "text/html": [
       "<div>\n",
       "<style scoped>\n",
       "    .dataframe tbody tr th:only-of-type {\n",
       "        vertical-align: middle;\n",
       "    }\n",
       "\n",
       "    .dataframe tbody tr th {\n",
       "        vertical-align: top;\n",
       "    }\n",
       "\n",
       "    .dataframe thead th {\n",
       "        text-align: right;\n",
       "    }\n",
       "</style>\n",
       "<table border=\"1\" class=\"dataframe\">\n",
       "  <thead>\n",
       "    <tr style=\"text-align: right;\">\n",
       "      <th></th>\n",
       "      <th>population</th>\n",
       "      <th>density</th>\n",
       "      <th>income_household_median</th>\n",
       "      <th>number_of_restaurants</th>\n",
       "    </tr>\n",
       "    <tr>\n",
       "      <th>city</th>\n",
       "      <th></th>\n",
       "      <th></th>\n",
       "      <th></th>\n",
       "      <th></th>\n",
       "    </tr>\n",
       "  </thead>\n",
       "  <tbody>\n",
       "    <tr>\n",
       "      <th>New York</th>\n",
       "      <td>18972871.0</td>\n",
       "      <td>10768.2</td>\n",
       "      <td>70663.0</td>\n",
       "      <td>28.0</td>\n",
       "    </tr>\n",
       "    <tr>\n",
       "      <th>Los Angeles</th>\n",
       "      <td>12121244.0</td>\n",
       "      <td>3267.6</td>\n",
       "      <td>69778.0</td>\n",
       "      <td>64.0</td>\n",
       "    </tr>\n",
       "    <tr>\n",
       "      <th>Chicago</th>\n",
       "      <td>8595181.0</td>\n",
       "      <td>4576.6</td>\n",
       "      <td>65781.0</td>\n",
       "      <td>57.0</td>\n",
       "    </tr>\n",
       "    <tr>\n",
       "      <th>Miami</th>\n",
       "      <td>5711945.0</td>\n",
       "      <td>4945.7</td>\n",
       "      <td>47860.0</td>\n",
       "      <td>62.0</td>\n",
       "    </tr>\n",
       "    <tr>\n",
       "      <th>Dallas</th>\n",
       "      <td>5668165.0</td>\n",
       "      <td>1522.2</td>\n",
       "      <td>58231.0</td>\n",
       "      <td>66.0</td>\n",
       "    </tr>\n",
       "    <tr>\n",
       "      <th>Houston</th>\n",
       "      <td>5650910.0</td>\n",
       "      <td>1394.6</td>\n",
       "      <td>56019.0</td>\n",
       "      <td>107.0</td>\n",
       "    </tr>\n",
       "    <tr>\n",
       "      <th>Philadelphia</th>\n",
       "      <td>5512873.0</td>\n",
       "      <td>4544.9</td>\n",
       "      <td>52649.0</td>\n",
       "      <td>53.0</td>\n",
       "    </tr>\n",
       "    <tr>\n",
       "      <th>Atlanta</th>\n",
       "      <td>5046555.0</td>\n",
       "      <td>1419.9</td>\n",
       "      <td>69164.0</td>\n",
       "      <td>44.0</td>\n",
       "    </tr>\n",
       "    <tr>\n",
       "      <th>Washington</th>\n",
       "      <td>4810669.0</td>\n",
       "      <td>4434.0</td>\n",
       "      <td>93547.0</td>\n",
       "      <td>6.0</td>\n",
       "    </tr>\n",
       "    <tr>\n",
       "      <th>Boston</th>\n",
       "      <td>4208580.0</td>\n",
       "      <td>5505.8</td>\n",
       "      <td>81744.0</td>\n",
       "      <td>16.0</td>\n",
       "    </tr>\n",
       "  </tbody>\n",
       "</table>\n",
       "</div>"
      ],
      "text/plain": [
       "              population  density  income_household_median  \\\n",
       "city                                                         \n",
       "New York      18972871.0  10768.2                  70663.0   \n",
       "Los Angeles   12121244.0   3267.6                  69778.0   \n",
       "Chicago        8595181.0   4576.6                  65781.0   \n",
       "Miami          5711945.0   4945.7                  47860.0   \n",
       "Dallas         5668165.0   1522.2                  58231.0   \n",
       "Houston        5650910.0   1394.6                  56019.0   \n",
       "Philadelphia   5512873.0   4544.9                  52649.0   \n",
       "Atlanta        5046555.0   1419.9                  69164.0   \n",
       "Washington     4810669.0   4434.0                  93547.0   \n",
       "Boston         4208580.0   5505.8                  81744.0   \n",
       "\n",
       "              number_of_restaurants  \n",
       "city                                 \n",
       "New York                       28.0  \n",
       "Los Angeles                    64.0  \n",
       "Chicago                        57.0  \n",
       "Miami                          62.0  \n",
       "Dallas                         66.0  \n",
       "Houston                       107.0  \n",
       "Philadelphia                   53.0  \n",
       "Atlanta                        44.0  \n",
       "Washington                      6.0  \n",
       "Boston                         16.0  "
      ]
     },
     "execution_count": 428,
     "metadata": {},
     "output_type": "execute_result"
    }
   ],
   "source": [
    "data1 = pd.merge(population_by_city, city_data, on = \"city\", how = \"outer\")\n",
    "data1 = data.dropna()\n",
    "data1 = data1[data1.population > 50000]\n",
    "data1 = data1.set_index(\"city\")\n",
    "data1.head(10)"
   ]
  },
  {
   "cell_type": "markdown",
   "id": "a6cc8daa",
   "metadata": {},
   "source": [
    "Then find nine representative cities."
   ]
  },
  {
   "cell_type": "code",
   "execution_count": 429,
   "id": "40a64189",
   "metadata": {},
   "outputs": [
    {
     "name": "stdout",
     "output_type": "stream",
     "text": [
      "These ten cities are most attractive for fast-food restaurants:\n",
      "Houston      107\n",
      "Las Vegas     82\n",
      "Phoenix       78\n",
      "Name: city, dtype: int64\n"
     ]
    }
   ],
   "source": [
    "topTen = cityList[0:3]\n",
    "print('These ten cities are most attractive for fast-food restaurants:')\n",
    "print(topTen)"
   ]
  },
  {
   "cell_type": "code",
   "execution_count": 430,
   "id": "b11844d6",
   "metadata": {},
   "outputs": [
    {
     "name": "stdout",
     "output_type": "stream",
     "text": [
      "Several restaurants exist in these cities:\n",
      "Saint Petersburg    12\n",
      "Alexandria          12\n",
      "Wichita             12\n",
      "Name: city, dtype: int64\n"
     ]
    }
   ],
   "source": [
    "middleTen = cityList[-2640:-2637]\n",
    "print('Several restaurants exist in these cities:')\n",
    "print(middleTen)"
   ]
  },
  {
   "cell_type": "code",
   "execution_count": 431,
   "id": "618bcc0b",
   "metadata": {},
   "outputs": [
    {
     "name": "stdout",
     "output_type": "stream",
     "text": [
      "Few restaurants open in these areas\n",
      "Ephrata       4\n",
      "Pleasanton    4\n",
      "Florissant    4\n",
      "Name: city, dtype: int64\n"
     ]
    }
   ],
   "source": [
    "bottomTen = cityList[-2100:-2097]\n",
    "print('Few restaurants open in these areas')\n",
    "print(bottomTen)"
   ]
  },
  {
   "cell_type": "markdown",
   "id": "e3c2f9cb",
   "metadata": {},
   "source": [
    "Convert the date object into a more readable form."
   ]
  },
  {
   "cell_type": "code",
   "execution_count": 432,
   "id": "66fbc831",
   "metadata": {},
   "outputs": [],
   "source": [
    "from datetime import datetime\n",
    "from dateutil.parser import parse"
   ]
  },
  {
   "cell_type": "code",
   "execution_count": 433,
   "id": "fc186199",
   "metadata": {},
   "outputs": [
    {
     "name": "stdout",
     "output_type": "stream",
     "text": [
      "0   2015-10-19 23:47:58\n",
      "1   2015-10-19 23:47:58\n",
      "2   2016-03-29 05:06:36\n",
      "3   2017-01-03 07:46:11\n",
      "4   2018-06-26 02:59:43\n",
      "Name: dateAdded, dtype: datetime64[ns]\n"
     ]
    }
   ],
   "source": [
    "fastfood_data['dateAdded'] = fastfood_data['dateAdded'].apply(\n",
    "        lambda x: datetime.strptime(x, '%Y-%m-%dT%H:%M:%SZ'))\n",
    "\n",
    "print(fastfood_data['dateAdded'].head())"
   ]
  },
  {
   "cell_type": "markdown",
   "id": "b3689335",
   "metadata": {},
   "source": [
    "Plot a histogram for the date added to have a clear view of when the restaurants enter the market,"
   ]
  },
  {
   "cell_type": "code",
   "execution_count": 434,
   "id": "ac645504",
   "metadata": {},
   "outputs": [
    {
     "data": {
      "image/png": "[encoded data removed]",
      "text/plain": [
       "<Figure size 800x400 with 1 Axes>"
      ]
     },
     "metadata": {},
     "output_type": "display_data"
    }
   ],
   "source": [
    "plt.figure(figsize = (8, 4))\n",
    "plt.hist(fastfood_data[\"dateAdded\"])\n",
    "plt.xlabel(\"Date\")\n",
    "plt.ylabel(\"Number of restaurant\")\n",
    "plt.title(\"Histogram of Date Added\")\n",
    "plt.show()"
   ]
  },
  {
   "cell_type": "markdown",
   "id": "3c130f28",
   "metadata": {},
   "source": [
    "According to the histogram, I choose the date 2016-4-3, which roughly divide the restaurants into two equal halves."
   ]
  },
  {
   "cell_type": "code",
   "execution_count": 435,
   "id": "82e1f420",
   "metadata": {},
   "outputs": [
    {
     "name": "stdout",
     "output_type": "stream",
     "text": [
      "4988 5012\n"
     ]
    }
   ],
   "source": [
    "def bdate (df):\n",
    "    return df[df.dateAdded < datetime(2016, 4, 3)]\n",
    "\n",
    "\n",
    "def adate (df):\n",
    "    return  df[df.dateAdded >= datetime(2016, 4, 3)]\n",
    "\n",
    "\n",
    "fastfood_data1 = fastfood_data.set_index('city')\n",
    "dateBefore = bdate(fastfood_data1)\n",
    "dateAfter = adate(fastfood_data1)\n",
    "print(dateBefore.shape[0], dateAfter.shape[0])"
   ]
  },
  {
   "cell_type": "markdown",
   "id": "5d94c815",
   "metadata": {},
   "source": [
    "The names of restaurants in this dataset have some errors, for example, there exist \"McDonald's\" and \"McDonalds\" represent the same brand but are not counted together."
   ]
  },
  {
   "cell_type": "code",
   "execution_count": 436,
   "id": "081e1553",
   "metadata": {},
   "outputs": [
    {
     "data": {
      "text/plain": [
       "McDonalds          1940\n",
       "Taco Bell          1032\n",
       "Burger King         833\n",
       "Subway              776\n",
       "Arbys               666\n",
       "Wendys              628\n",
       "Jack in the Box     330\n",
       "Pizza Hut           230\n",
       "Dairy Queen         218\n",
       "Dominos Pizza       215\n",
       "Name: name, dtype: int64"
      ]
     },
     "execution_count": 436,
     "metadata": {},
     "output_type": "execute_result"
    }
   ],
   "source": [
    "fastfood_data1.name.value_counts()[0:10]"
   ]
  },
  {
   "cell_type": "code",
   "execution_count": 437,
   "id": "5ac2b805",
   "metadata": {},
   "outputs": [
    {
     "data": {
      "text/plain": [
       "McDonalds          1940\n",
       "Taco Bell          1032\n",
       "Burger King         833\n",
       "Subway              776\n",
       "Arbys               666\n",
       "Wendys              628\n",
       "Jack in the Box     330\n",
       "Pizza Hut           230\n",
       "Dairy Queen         218\n",
       "Dominos Pizza       215\n",
       "Name: name, dtype: int64"
      ]
     },
     "execution_count": 437,
     "metadata": {},
     "output_type": "execute_result"
    }
   ],
   "source": [
    "import string\n",
    "\n",
    "fastfood_data1.name=fastfood_data1.name.apply(lambda a:''.join([i for i in a \n",
    "                            if i not in string.punctuation]))\n",
    "\n",
    "fastfood_data1.name.value_counts()[:10]"
   ]
  },
  {
   "cell_type": "markdown",
   "id": "6b0f4cab",
   "metadata": {},
   "source": [
    "Sort the merged data according to the three varaibles."
   ]
  },
  {
   "cell_type": "code",
   "execution_count": 438,
   "id": "3cbe905d",
   "metadata": {},
   "outputs": [
    {
     "data": {
      "text/html": [
       "<div>\n",
       "<style scoped>\n",
       "    .dataframe tbody tr th:only-of-type {\n",
       "        vertical-align: middle;\n",
       "    }\n",
       "\n",
       "    .dataframe tbody tr th {\n",
       "        vertical-align: top;\n",
       "    }\n",
       "\n",
       "    .dataframe thead th {\n",
       "        text-align: right;\n",
       "    }\n",
       "</style>\n",
       "<table border=\"1\" class=\"dataframe\">\n",
       "  <thead>\n",
       "    <tr style=\"text-align: right;\">\n",
       "      <th></th>\n",
       "      <th>population</th>\n",
       "      <th>density</th>\n",
       "      <th>income_household_median</th>\n",
       "      <th>number_of_restaurants</th>\n",
       "    </tr>\n",
       "    <tr>\n",
       "      <th>city</th>\n",
       "      <th></th>\n",
       "      <th></th>\n",
       "      <th></th>\n",
       "      <th></th>\n",
       "    </tr>\n",
       "  </thead>\n",
       "  <tbody>\n",
       "    <tr>\n",
       "      <th>New York</th>\n",
       "      <td>18972871.0</td>\n",
       "      <td>10768.2</td>\n",
       "      <td>70663.0</td>\n",
       "      <td>28.0</td>\n",
       "    </tr>\n",
       "    <tr>\n",
       "      <th>Los Angeles</th>\n",
       "      <td>12121244.0</td>\n",
       "      <td>3267.6</td>\n",
       "      <td>69778.0</td>\n",
       "      <td>64.0</td>\n",
       "    </tr>\n",
       "    <tr>\n",
       "      <th>Chicago</th>\n",
       "      <td>8595181.0</td>\n",
       "      <td>4576.6</td>\n",
       "      <td>65781.0</td>\n",
       "      <td>57.0</td>\n",
       "    </tr>\n",
       "    <tr>\n",
       "      <th>Miami</th>\n",
       "      <td>5711945.0</td>\n",
       "      <td>4945.7</td>\n",
       "      <td>47860.0</td>\n",
       "      <td>62.0</td>\n",
       "    </tr>\n",
       "    <tr>\n",
       "      <th>Dallas</th>\n",
       "      <td>5668165.0</td>\n",
       "      <td>1522.2</td>\n",
       "      <td>58231.0</td>\n",
       "      <td>66.0</td>\n",
       "    </tr>\n",
       "    <tr>\n",
       "      <th>Houston</th>\n",
       "      <td>5650910.0</td>\n",
       "      <td>1394.6</td>\n",
       "      <td>56019.0</td>\n",
       "      <td>107.0</td>\n",
       "    </tr>\n",
       "    <tr>\n",
       "      <th>Philadelphia</th>\n",
       "      <td>5512873.0</td>\n",
       "      <td>4544.9</td>\n",
       "      <td>52649.0</td>\n",
       "      <td>53.0</td>\n",
       "    </tr>\n",
       "    <tr>\n",
       "      <th>Atlanta</th>\n",
       "      <td>5046555.0</td>\n",
       "      <td>1419.9</td>\n",
       "      <td>69164.0</td>\n",
       "      <td>44.0</td>\n",
       "    </tr>\n",
       "    <tr>\n",
       "      <th>Washington</th>\n",
       "      <td>4810669.0</td>\n",
       "      <td>4434.0</td>\n",
       "      <td>93547.0</td>\n",
       "      <td>6.0</td>\n",
       "    </tr>\n",
       "    <tr>\n",
       "      <th>Boston</th>\n",
       "      <td>4208580.0</td>\n",
       "      <td>5505.8</td>\n",
       "      <td>81744.0</td>\n",
       "      <td>16.0</td>\n",
       "    </tr>\n",
       "  </tbody>\n",
       "</table>\n",
       "</div>"
      ],
      "text/plain": [
       "              population  density  income_household_median  \\\n",
       "city                                                         \n",
       "New York      18972871.0  10768.2                  70663.0   \n",
       "Los Angeles   12121244.0   3267.6                  69778.0   \n",
       "Chicago        8595181.0   4576.6                  65781.0   \n",
       "Miami          5711945.0   4945.7                  47860.0   \n",
       "Dallas         5668165.0   1522.2                  58231.0   \n",
       "Houston        5650910.0   1394.6                  56019.0   \n",
       "Philadelphia   5512873.0   4544.9                  52649.0   \n",
       "Atlanta        5046555.0   1419.9                  69164.0   \n",
       "Washington     4810669.0   4434.0                  93547.0   \n",
       "Boston         4208580.0   5505.8                  81744.0   \n",
       "\n",
       "              number_of_restaurants  \n",
       "city                                 \n",
       "New York                       28.0  \n",
       "Los Angeles                    64.0  \n",
       "Chicago                        57.0  \n",
       "Miami                          62.0  \n",
       "Dallas                         66.0  \n",
       "Houston                       107.0  \n",
       "Philadelphia                   53.0  \n",
       "Atlanta                        44.0  \n",
       "Washington                      6.0  \n",
       "Boston                         16.0  "
      ]
     },
     "execution_count": 438,
     "metadata": {},
     "output_type": "execute_result"
    }
   ],
   "source": [
    "data_pop = data1.sort_values(\"population\", ascending= False)\n",
    "data_pop.head(10)"
   ]
  },
  {
   "cell_type": "code",
   "execution_count": 439,
   "id": "6dde8cda",
   "metadata": {},
   "outputs": [
    {
     "data": {
      "text/html": [
       "<div>\n",
       "<style scoped>\n",
       "    .dataframe tbody tr th:only-of-type {\n",
       "        vertical-align: middle;\n",
       "    }\n",
       "\n",
       "    .dataframe tbody tr th {\n",
       "        vertical-align: top;\n",
       "    }\n",
       "\n",
       "    .dataframe thead th {\n",
       "        text-align: right;\n",
       "    }\n",
       "</style>\n",
       "<table border=\"1\" class=\"dataframe\">\n",
       "  <thead>\n",
       "    <tr style=\"text-align: right;\">\n",
       "      <th></th>\n",
       "      <th>population</th>\n",
       "      <th>density</th>\n",
       "      <th>income_household_median</th>\n",
       "      <th>number_of_restaurants</th>\n",
       "    </tr>\n",
       "    <tr>\n",
       "      <th>city</th>\n",
       "      <th></th>\n",
       "      <th></th>\n",
       "      <th></th>\n",
       "      <th></th>\n",
       "    </tr>\n",
       "  </thead>\n",
       "  <tbody>\n",
       "    <tr>\n",
       "      <th>Union City</th>\n",
       "      <td>67903.0</td>\n",
       "      <td>20421.9</td>\n",
       "      <td>53177.0</td>\n",
       "      <td>5.0</td>\n",
       "    </tr>\n",
       "    <tr>\n",
       "      <th>New York</th>\n",
       "      <td>18972871.0</td>\n",
       "      <td>10768.2</td>\n",
       "      <td>70663.0</td>\n",
       "      <td>28.0</td>\n",
       "    </tr>\n",
       "    <tr>\n",
       "      <th>Somerville</th>\n",
       "      <td>80608.0</td>\n",
       "      <td>7600.3</td>\n",
       "      <td>108896.0</td>\n",
       "      <td>1.0</td>\n",
       "    </tr>\n",
       "    <tr>\n",
       "      <th>Huntington Park</th>\n",
       "      <td>55439.0</td>\n",
       "      <td>7414.5</td>\n",
       "      <td>51065.0</td>\n",
       "      <td>3.0</td>\n",
       "    </tr>\n",
       "    <tr>\n",
       "      <th>San Francisco</th>\n",
       "      <td>3290197.0</td>\n",
       "      <td>7199.4</td>\n",
       "      <td>126187.0</td>\n",
       "      <td>16.0</td>\n",
       "    </tr>\n",
       "    <tr>\n",
       "      <th>Cambridge</th>\n",
       "      <td>116892.0</td>\n",
       "      <td>7111.9</td>\n",
       "      <td>112565.0</td>\n",
       "      <td>13.0</td>\n",
       "    </tr>\n",
       "    <tr>\n",
       "      <th>Jersey City</th>\n",
       "      <td>287146.0</td>\n",
       "      <td>6878.3</td>\n",
       "      <td>81390.0</td>\n",
       "      <td>4.0</td>\n",
       "    </tr>\n",
       "    <tr>\n",
       "      <th>East Orange</th>\n",
       "      <td>68918.0</td>\n",
       "      <td>6355.4</td>\n",
       "      <td>54520.0</td>\n",
       "      <td>2.0</td>\n",
       "    </tr>\n",
       "    <tr>\n",
       "      <th>Mount Vernon</th>\n",
       "      <td>72855.0</td>\n",
       "      <td>5943.4</td>\n",
       "      <td>68300.0</td>\n",
       "      <td>8.0</td>\n",
       "    </tr>\n",
       "    <tr>\n",
       "      <th>Lynwood</th>\n",
       "      <td>67497.0</td>\n",
       "      <td>5553.4</td>\n",
       "      <td>61612.0</td>\n",
       "      <td>2.0</td>\n",
       "    </tr>\n",
       "  </tbody>\n",
       "</table>\n",
       "</div>"
      ],
      "text/plain": [
       "                 population  density  income_household_median  \\\n",
       "city                                                            \n",
       "Union City          67903.0  20421.9                  53177.0   \n",
       "New York         18972871.0  10768.2                  70663.0   \n",
       "Somerville          80608.0   7600.3                 108896.0   \n",
       "Huntington Park     55439.0   7414.5                  51065.0   \n",
       "San Francisco     3290197.0   7199.4                 126187.0   \n",
       "Cambridge          116892.0   7111.9                 112565.0   \n",
       "Jersey City        287146.0   6878.3                  81390.0   \n",
       "East Orange         68918.0   6355.4                  54520.0   \n",
       "Mount Vernon        72855.0   5943.4                  68300.0   \n",
       "Lynwood             67497.0   5553.4                  61612.0   \n",
       "\n",
       "                 number_of_restaurants  \n",
       "city                                    \n",
       "Union City                         5.0  \n",
       "New York                          28.0  \n",
       "Somerville                         1.0  \n",
       "Huntington Park                    3.0  \n",
       "San Francisco                     16.0  \n",
       "Cambridge                         13.0  \n",
       "Jersey City                        4.0  \n",
       "East Orange                        2.0  \n",
       "Mount Vernon                       8.0  \n",
       "Lynwood                            2.0  "
      ]
     },
     "execution_count": 439,
     "metadata": {},
     "output_type": "execute_result"
    }
   ],
   "source": [
    "data_density = data1.sort_values(by = \"density\", ascending = False)\n",
    "data_density.head(10)"
   ]
  },
  {
   "cell_type": "code",
   "execution_count": 440,
   "id": "5d9626b7",
   "metadata": {},
   "outputs": [
    {
     "data": {
      "text/html": [
       "<div>\n",
       "<style scoped>\n",
       "    .dataframe tbody tr th:only-of-type {\n",
       "        vertical-align: middle;\n",
       "    }\n",
       "\n",
       "    .dataframe tbody tr th {\n",
       "        vertical-align: top;\n",
       "    }\n",
       "\n",
       "    .dataframe thead th {\n",
       "        text-align: right;\n",
       "    }\n",
       "</style>\n",
       "<table border=\"1\" class=\"dataframe\">\n",
       "  <thead>\n",
       "    <tr style=\"text-align: right;\">\n",
       "      <th></th>\n",
       "      <th>population</th>\n",
       "      <th>density</th>\n",
       "      <th>income_household_median</th>\n",
       "      <th>number_of_restaurants</th>\n",
       "    </tr>\n",
       "    <tr>\n",
       "      <th>city</th>\n",
       "      <th></th>\n",
       "      <th></th>\n",
       "      <th></th>\n",
       "      <th></th>\n",
       "    </tr>\n",
       "  </thead>\n",
       "  <tbody>\n",
       "    <tr>\n",
       "      <th>Cupertino</th>\n",
       "      <td>60681.0</td>\n",
       "      <td>2038.2</td>\n",
       "      <td>199778.0</td>\n",
       "      <td>2.0</td>\n",
       "    </tr>\n",
       "    <tr>\n",
       "      <th>Palo Alto</th>\n",
       "      <td>68624.0</td>\n",
       "      <td>1091.2</td>\n",
       "      <td>194782.0</td>\n",
       "      <td>3.0</td>\n",
       "    </tr>\n",
       "    <tr>\n",
       "      <th>Greenwich</th>\n",
       "      <td>63455.0</td>\n",
       "      <td>507.4</td>\n",
       "      <td>180447.0</td>\n",
       "      <td>1.0</td>\n",
       "    </tr>\n",
       "    <tr>\n",
       "      <th>Bethesda</th>\n",
       "      <td>66294.0</td>\n",
       "      <td>1895.0</td>\n",
       "      <td>178370.0</td>\n",
       "      <td>2.0</td>\n",
       "    </tr>\n",
       "    <tr>\n",
       "      <th>San Ramon</th>\n",
       "      <td>85688.0</td>\n",
       "      <td>1565.7</td>\n",
       "      <td>173519.0</td>\n",
       "      <td>1.0</td>\n",
       "    </tr>\n",
       "    <tr>\n",
       "      <th>Dublin</th>\n",
       "      <td>69818.0</td>\n",
       "      <td>1619.0</td>\n",
       "      <td>171168.0</td>\n",
       "      <td>6.0</td>\n",
       "    </tr>\n",
       "    <tr>\n",
       "      <th>Pleasanton</th>\n",
       "      <td>79558.0</td>\n",
       "      <td>1279.1</td>\n",
       "      <td>167932.0</td>\n",
       "      <td>4.0</td>\n",
       "    </tr>\n",
       "    <tr>\n",
       "      <th>Newton</th>\n",
       "      <td>88647.0</td>\n",
       "      <td>1912.8</td>\n",
       "      <td>164607.0</td>\n",
       "      <td>4.0</td>\n",
       "    </tr>\n",
       "    <tr>\n",
       "      <th>Sunnyvale</th>\n",
       "      <td>155550.0</td>\n",
       "      <td>2670.3</td>\n",
       "      <td>161670.0</td>\n",
       "      <td>8.0</td>\n",
       "    </tr>\n",
       "    <tr>\n",
       "      <th>Mountain View</th>\n",
       "      <td>82409.0</td>\n",
       "      <td>2586.4</td>\n",
       "      <td>158104.0</td>\n",
       "      <td>2.0</td>\n",
       "    </tr>\n",
       "  </tbody>\n",
       "</table>\n",
       "</div>"
      ],
      "text/plain": [
       "               population  density  income_household_median  \\\n",
       "city                                                          \n",
       "Cupertino         60681.0   2038.2                 199778.0   \n",
       "Palo Alto         68624.0   1091.2                 194782.0   \n",
       "Greenwich         63455.0    507.4                 180447.0   \n",
       "Bethesda          66294.0   1895.0                 178370.0   \n",
       "San Ramon         85688.0   1565.7                 173519.0   \n",
       "Dublin            69818.0   1619.0                 171168.0   \n",
       "Pleasanton        79558.0   1279.1                 167932.0   \n",
       "Newton            88647.0   1912.8                 164607.0   \n",
       "Sunnyvale        155550.0   2670.3                 161670.0   \n",
       "Mountain View     82409.0   2586.4                 158104.0   \n",
       "\n",
       "               number_of_restaurants  \n",
       "city                                  \n",
       "Cupertino                        2.0  \n",
       "Palo Alto                        3.0  \n",
       "Greenwich                        1.0  \n",
       "Bethesda                         2.0  \n",
       "San Ramon                        1.0  \n",
       "Dublin                           6.0  \n",
       "Pleasanton                       4.0  \n",
       "Newton                           4.0  \n",
       "Sunnyvale                        8.0  \n",
       "Mountain View                    2.0  "
      ]
     },
     "execution_count": 440,
     "metadata": {},
     "output_type": "execute_result"
    }
   ],
   "source": [
    "data_income = data1.sort_values(by = \"income_household_median\", ascending = False)\n",
    "data_income.head(10)"
   ]
  },
  {
   "cell_type": "markdown",
   "id": "fc2da74c",
   "metadata": {},
   "source": [
    "## Plots, Histograms, Figures"
   ]
  },
  {
   "cell_type": "markdown",
   "id": "192da025",
   "metadata": {},
   "source": [
    "To reveal the relationship between the independent variables and the number of restaurants in the market, I choose to draw the scatter plots. The three diagrams each have the population, population density, and income on the x-axis, and restaurant number on the y-axis."
   ]
  },
  {
   "cell_type": "code",
   "execution_count": 441,
   "id": "9317ebef",
   "metadata": {
    "scrolled": false
   },
   "outputs": [
    {
     "data": {
      "text/plain": [
       "(0.0, 10000000.0)"
      ]
     },
     "execution_count": 441,
     "metadata": {},
     "output_type": "execute_result"
    },
    {
     "data": {
      "image/png": "[encoded data removed]",
      "text/plain": [
       "<Figure size 1000x500 with 1 Axes>"
      ]
     },
     "metadata": {},
     "output_type": "display_data"
    }
   ],
   "source": [
    "fig, ax = plt.subplots(figsize = (10, 5))\n",
    "\n",
    "bgcolor = (250/255, 250/255, 250/255)\n",
    "fig.set_facecolor(bgcolor)\n",
    "data_pop.plot(kind = \"scatter\", x = \"population\", y = \"number_of_restaurants\", ax = ax, s = 3, color = \"red\")\n",
    "\n",
    "ax.set_title(\"Number of Restaurants to Population\")\n",
    "ax.set_xlabel(\"Population\")\n",
    "ax.set_ylabel(\"Number of restaurants\")\n",
    "\n",
    "plt.xlim(0, 1e7)"
   ]
  },
  {
   "cell_type": "markdown",
   "id": "1498efc7",
   "metadata": {},
   "source": [
    "Each red dot represents a city's data. From the diagram, we can clearly see that few fast-food restaurants exist in the less populated regions. As the population increase, the restaurant number shows a trend of increasing."
   ]
  },
  {
   "cell_type": "code",
   "execution_count": 442,
   "id": "1597d427",
   "metadata": {},
   "outputs": [
    {
     "data": {
      "text/plain": [
       "(0.0, 10000.0)"
      ]
     },
     "execution_count": 442,
     "metadata": {},
     "output_type": "execute_result"
    },
    {
     "data": {
      "image/png": "[encoded data removed]",
      "text/plain": [
       "<Figure size 1000x500 with 1 Axes>"
      ]
     },
     "metadata": {},
     "output_type": "display_data"
    }
   ],
   "source": [
    "fig, ax = plt.subplots(figsize = (10, 5))\n",
    "\n",
    "bgcolor = (250/255, 250/255, 250/255)\n",
    "fig.set_facecolor(bgcolor)\n",
    "data_density.plot(kind = \"scatter\", x = \"density\", y = \"number_of_restaurants\", ax = ax, s = 3, color = \"blue\")\n",
    "\n",
    "ax.set_title(\"Number of Restaurants to Population Density\")\n",
    "ax.set_xlabel(\"Population Density(square kilometer)\")\n",
    "ax.set_ylabel(\"Number of restaurants\")\n",
    "\n",
    "plt.xlim(0, 1e4)"
   ]
  },
  {
   "cell_type": "markdown",
   "id": "8a07ceb8",
   "metadata": {},
   "source": [
    "The positions of dots in the diagram show no clear relationships between the population density and the number of fast food restaurants. In cities with low population density, some have few restaurants and some have many."
   ]
  },
  {
   "cell_type": "code",
   "execution_count": 443,
   "id": "3e21834c",
   "metadata": {},
   "outputs": [
    {
     "data": {
      "text/plain": [
       "(0.0, 100000.0)"
      ]
     },
     "execution_count": 443,
     "metadata": {},
     "output_type": "execute_result"
    },
    {
     "data": {
      "image/png": "[encoded data removed]",
      "text/plain": [
       "<Figure size 1000x500 with 1 Axes>"
      ]
     },
     "metadata": {},
     "output_type": "display_data"
    }
   ],
   "source": [
    "fig, ax = plt.subplots(figsize = (10, 5))\n",
    "\n",
    "bgcolor = (250/255, 250/255, 250/255)\n",
    "fig.set_facecolor(bgcolor)\n",
    "data_income.plot(kind = \"scatter\", x = \"income_household_median\", y = \"number_of_restaurants\", ax = ax, s = 3, color = \"green\")\n",
    "\n",
    "ax.set_title(\"Number of Restaurants to Income\")\n",
    "ax.set_xlabel(\"Household Median Income\")\n",
    "ax.set_ylabel(\"Number of restaurants\")\n",
    "\n",
    "plt.xlim(0, 1e5)"
   ]
  },
  {
   "cell_type": "markdown",
   "id": "9a4ac471",
   "metadata": {},
   "source": [
    "The data is quite ambiguous about the relationship between restaurant number and income. While cities with more fast food restaurants appear more frequently in poorer regions, many low-income cities still have few restaurants."
   ]
  },
  {
   "cell_type": "code",
   "execution_count": 444,
   "id": "9b32ad65",
   "metadata": {},
   "outputs": [
    {
     "data": {
      "text/plain": [
       "(0.0, 100000.0)"
      ]
     },
     "execution_count": 444,
     "metadata": {},
     "output_type": "execute_result"
    },
    {
     "data": {
      "image/png": "[encoded data removed]",
      "text/plain": [
       "<Figure size 1000x500 with 1 Axes>"
      ]
     },
     "metadata": {},
     "output_type": "display_data"
    }
   ],
   "source": [
    "data_income2 = data_income[data_income.population > 700000]\n",
    "\n",
    "fig, ax = plt.subplots(figsize = (10, 5))\n",
    "\n",
    "bgcolor = (250/255, 250/255, 250/255)\n",
    "fig.set_facecolor(bgcolor)\n",
    "data_income2.plot(kind = \"scatter\", x = \"income_household_median\", y = \"number_of_restaurants\", ax = ax, s = 3, color = \"green\")\n",
    "\n",
    "ax.set_title(\"Number of Restaurants to Income(Population > 70,000)\")\n",
    "ax.set_xlabel(\"Household Median Income\")\n",
    "ax.set_ylabel(\"Number of restaurants\")\n",
    "\n",
    "plt.xlim(0, 1e5)"
   ]
  },
  {
   "cell_type": "markdown",
   "id": "b0e0c1bc",
   "metadata": {},
   "source": [
    "Based on the result of the last diagram, I guess the population might have caused the ambiguity. So I remove the cities that have less than 70,000 people and draw the diagram again. Now the new diagram shows a negative relationship between the restaurant number and household income."
   ]
  },
  {
   "cell_type": "markdown",
   "id": "7449223c",
   "metadata": {},
   "source": [
    "To check the effects of existing restaurants, I choose to plot the bar chart of the three representative cities. The blue bar represents the number of restaurants of a specific brand beore 2016-4-3, and the orange bar represnts the number added after that date."
   ]
  },
  {
   "cell_type": "code",
   "execution_count": 445,
   "id": "66ed4bc1",
   "metadata": {},
   "outputs": [
    {
     "data": {
      "text/plain": [
       "<AxesSubplot:title={'center':'Phoenix'}, xlabel=\"Restaurant's Name\", ylabel='Number'>"
      ]
     },
     "execution_count": 445,
     "metadata": {},
     "output_type": "execute_result"
    },
    {
     "data": {
      "image/png": "[encoded data removed]",
      "text/plain": [
       "<Figure size 400x300 with 1 Axes>"
      ]
     },
     "metadata": {},
     "output_type": "display_data"
    },
    {
     "data": {
      "image/png": "[encoded data removed]",
      "text/plain": [
       "<Figure size 400x300 with 1 Axes>"
      ]
     },
     "metadata": {},
     "output_type": "display_data"
    },
    {
     "data": {
      "image/png": "[encoded data removed]",
      "text/plain": [
       "<Figure size 400x300 with 1 Axes>"
      ]
     },
     "metadata": {},
     "output_type": "display_data"
    }
   ],
   "source": [
    "city_group = fastfood_data.groupby(\"city\")\n",
    "\n",
    "def cityfunc (cityname):\n",
    "    c = city_group.get_group(cityname)\n",
    "    a = bdate(c)\n",
    "    b = adate(c)\n",
    "    d = pd.merge(a.name.value_counts().to_frame(), b.name.value_counts().to_frame()\n",
    "                 , right_index=True, left_index=True)\n",
    "    d = d.rename(columns = {\"name_x\": \"before\", \"name_y\": \"increase\"})\n",
    "    return d\n",
    "\n",
    "\n",
    "cityfunc(\"Houston\").plot.bar(title = \"Houston\", figsize = (4, 3), xlabel = \"Restaurant's Name\", ylabel = \"Number\")\n",
    "cityfunc(\"Las Vegas\").plot.bar(title = \"Las Vegas\", figsize = (4, 3), xlabel = \"Restaurant's Name\", ylabel = \"Number\")\n",
    "cityfunc(\"Phoenix\").plot.bar(title = \"Phoenix\", figsize = (4, 3), xlabel = \"Restaurant's Name\", ylabel = \"Number\")"
   ]
  },
  {
   "cell_type": "markdown",
   "id": "e04f8654",
   "metadata": {},
   "source": [
    "From the data in Las Vegas, we can see that the number of fast food restaurants greatly increased, especially McDonald's. In Phoenix, few new restaurants were established, given that several large brands already exist in the city. Houston's data shows trends different from the other two: the large brands opened more restaurants while they have already taken the major portion of the market. The only common part of these three graphs is that the small brands show no large increase in their restaurant number throughout the time period."
   ]
  },
  {
   "cell_type": "markdown",
   "id": "9368ce31",
   "metadata": {},
   "source": [
    "## Conclusion"
   ]
  },
  {
   "cell_type": "markdown",
   "id": "bf586035",
   "metadata": {},
   "source": [
    "The data above can only draw conclusions about the relationships between two independent variables and the outcome. Firstly, the population is positively related to the number of fast-food restaurants in the market: a high population leads to high demand for things, which can always attract firms to enter the local market. Secondly, income is negatively related to the restaurant number. In modern cities, the high pace of life makes people prefer to feed themselves with convenient fast food. However, fast food is unhealthy, making it an inferior good, and as people have higher earnings, they will prefer to go to a more formal restaurant.\n",
    "\n",
    "Data shows that population density is irrelevant to the outcome. As for the existing restaurants variable, the data is insufficient to draw any conclusions, but it is still clear to see that the small fast-food brands only take tiny market portions, showing that the market structure is more like an oligopoly.\n"
   ]
  }
 ],
 "metadata": {
  "kernelspec": {
   "display_name": "Python 3 (ipykernel)",
   "language": "python",
   "name": "python3"
  },
  "language_info": {
   "codemirror_mode": {
    "name": "ipython",
    "version": 3
   },
   "file_extension": ".py",
   "mimetype": "text/x-python",
   "name": "python",
   "nbconvert_exporter": "python",
   "pygments_lexer": "ipython3",
   "version": "3.9.13"
  }
 },
 "nbformat": 4,
 "nbformat_minor": 5
}
