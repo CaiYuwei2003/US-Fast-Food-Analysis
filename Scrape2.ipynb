{
 "cells": [
  {
   "cell_type": "code",
   "execution_count": 1,
   "id": "12ce4214",
   "metadata": {},
   "outputs": [],
   "source": [
    "import numpy as np\n",
    "import pandas as pd\n",
    "import matplotlib.colors as mplc\n",
    "import matplotlib.patches as patches\n",
    "import matplotlib.pyplot as plt\n",
    "import math\n",
    "\n",
    "fastfood_data = pd.read_csv('Datafiniti_Fast_Food_Restaurants.csv')"
   ]
  },
  {
   "cell_type": "code",
   "execution_count": 2,
   "id": "aac340f5",
   "metadata": {},
   "outputs": [],
   "source": [
    "zipCodeList = fastfood_data.postalCode.value_counts()\n",
    "zipCode_data = zipCodeList.to_frame()\n",
    "zipCode_data = zipCode_data.reset_index()\n",
    "zipCode_data = zipCode_data.rename(columns = {\"index\": \"Code\", \"postalCode\": \"number_of_restaurants\"})\n",
    "zipCode_data['Website'] = ['https://www.city-data.com/zips/{}.html'.format(y) for y in zipCode_data['Code']]"
   ]
  },
  {
   "cell_type": "code",
   "execution_count": 3,
   "id": "b6a86cde",
   "metadata": {},
   "outputs": [],
   "source": [
    "import requests\n",
    "from bs4 import BeautifulSoup\n",
    "import re"
   ]
  },
  {
   "cell_type": "code",
   "execution_count": 17,
   "id": "fbda0fe7",
   "metadata": {
    "scrolled": true
   },
   "outputs": [
    {
     "data": {
      "text/plain": [
       "[0]"
      ]
     },
     "execution_count": 17,
     "metadata": {},
     "output_type": "execute_result"
    }
   ],
   "source": [
    "url = zipCode_data['Website'][277]\n",
    "response = requests.get(url)\n",
    "soup_object = BeautifulSoup(response.content)\n",
    "hounumv = soup_object.find(text = 'Households:')\n",
    "if hounumv is None:\n",
    "    Householdnum.append(0)\n",
    "else:\n",
    "    hounum = hounumv.next_element.strip()\n",
    "    hounum = int(hounum.replace(',', ''))\n",
    "    Householdnum.append(hounum)\n",
    "houcnumv = soup_object.find(text = 'married couples with children.')\n",
    "if houcnumv is None:\n",
    "    Householdcnum.append(0)\n",
    "else:\n",
    "    houcnum = houcnumv.previous_element.previous_element.strip()\n",
    "    houcnum = int(houcnum.replace('\\n', '').replace('\\r', '').replace(',', ''))\n",
    "    Householdcnum.append(houcnum)\n",
    "\n",
    "Householdcnum"
   ]
  },
  {
   "cell_type": "code",
   "execution_count": 33,
   "id": "0aac267d",
   "metadata": {},
   "outputs": [],
   "source": [
    "HC2 = []\n",
    "H2 = []"
   ]
  },
  {
   "cell_type": "code",
   "execution_count": 130,
   "id": "323cedc9",
   "metadata": {},
   "outputs": [
    {
     "data": {
      "text/plain": [
       "106"
      ]
     },
     "execution_count": 130,
     "metadata": {},
     "output_type": "execute_result"
    }
   ],
   "source": [
    "len(Householdcnum)"
   ]
  },
  {
   "cell_type": "code",
   "execution_count": 131,
   "id": "d1a59ecd",
   "metadata": {},
   "outputs": [],
   "source": [
    "HC2.extend(Householdcnum)\n",
    "H2.extend(Householdnum)"
   ]
  },
  {
   "cell_type": "code",
   "execution_count": 132,
   "id": "db5f0e9f",
   "metadata": {},
   "outputs": [
    {
     "data": {
      "text/plain": [
       "5429"
      ]
     },
     "execution_count": 132,
     "metadata": {},
     "output_type": "execute_result"
    }
   ],
   "source": [
    "len(HC2)"
   ]
  },
  {
   "cell_type": "code",
   "execution_count": 133,
   "id": "5791da1e",
   "metadata": {},
   "outputs": [],
   "source": [
    "h2 = H2.copy()\n",
    "hc2 = HC2.copy()\n",
    "h2.extend([0] * (zipCode_data.shape[0] - len(h2)))\n",
    "hc2.extend([0] * (zipCode_data.shape[0] - len(hc2)))\n",
    "zipCode_data['Household Number'] = h2\n",
    "zipCode_data['Household with Children Number'] = hc2\n",
    "zipCode_data.to_csv('Zip_Code2.csv', index = False)"
   ]
  },
  {
   "cell_type": "code",
   "execution_count": 129,
   "id": "9b793675",
   "metadata": {
    "scrolled": true
   },
   "outputs": [],
   "source": [
    "Householdnum = []\n",
    "Householdcnum = []\n",
    "\n",
    "for i in range(5323, zipCode_data.shape[0]):\n",
    "    url = zipCode_data['Website'][i]\n",
    "    response = requests.get(url)\n",
    "    soup_object = BeautifulSoup(response.content)\n",
    "    hounumv = soup_object.find(text = 'Households:')\n",
    "    if hounumv is None:\n",
    "        Householdnum.append(0)\n",
    "    else:\n",
    "        hounum = hounumv.next_element.strip()\n",
    "        hounum = int(hounum.replace(',', ''))\n",
    "        Householdnum.append(hounum)\n",
    "    houcnumv = soup_object.find(text = 'married couples with children.')\n",
    "    if houcnumv is None:\n",
    "        Householdcnum.append(0)\n",
    "    else:\n",
    "        houcnum = houcnumv.previous_element.previous_element.strip()\n",
    "        houcnum = int(houcnum.replace('\\n', '').replace('\\r', '').replace(',', ''))\n",
    "        Householdcnum.append(houcnum)"
   ]
  },
  {
   "cell_type": "code",
   "execution_count": null,
   "id": "f8f153b0",
   "metadata": {},
   "outputs": [],
   "source": []
  }
 ],
 "metadata": {
  "kernelspec": {
   "display_name": "Python 3 (ipykernel)",
   "language": "python",
   "name": "python3"
  },
  "language_info": {
   "codemirror_mode": {
    "name": "ipython",
    "version": 3
   },
   "file_extension": ".py",
   "mimetype": "text/x-python",
   "name": "python",
   "nbconvert_exporter": "python",
   "pygments_lexer": "ipython3",
   "version": "3.9.13"
  }
 },
 "nbformat": 4,
 "nbformat_minor": 5
}
