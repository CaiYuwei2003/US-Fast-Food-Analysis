{
 "cells": [
  {
   "cell_type": "code",
   "execution_count": 1,
   "id": "63bc959a",
   "metadata": {},
   "outputs": [],
   "source": [
    "import numpy as np\n",
    "import pandas as pd\n",
    "import matplotlib.colors as mplc\n",
    "import matplotlib.patches as patches\n",
    "import matplotlib.pyplot as plt\n",
    "import math\n",
    "\n",
    "fastfood_data = pd.read_csv('Datafiniti_Fast_Food_Restaurants.csv')"
   ]
  },
  {
   "cell_type": "code",
   "execution_count": 2,
   "id": "045df29f",
   "metadata": {},
   "outputs": [],
   "source": [
    "zipCodeList = fastfood_data.postalCode.value_counts()\n",
    "zipCode_data = zipCodeList.to_frame()\n",
    "zipCode_data = zipCode_data.reset_index()\n",
    "zipCode_data = zipCode_data.rename(columns = {\"index\": \"Code\", \"postalCode\": \"number_of_restaurants\"})\n",
    "zipCode_data['Website'] = ['https://www.city-data.com/zips/{}.html'.format(y) for y in zipCode_data['Code']]"
   ]
  },
  {
   "cell_type": "code",
   "execution_count": 3,
   "id": "3e3876a8",
   "metadata": {},
   "outputs": [],
   "source": [
    "import requests\n",
    "from bs4 import BeautifulSoup\n",
    "import re"
   ]
  },
  {
   "cell_type": "code",
   "execution_count": 5,
   "id": "63c68da5",
   "metadata": {},
   "outputs": [],
   "source": [
    "url = zipCode_data['Website'][0]\n",
    "response = requests.get(url)"
   ]
  },
  {
   "cell_type": "code",
   "execution_count": 38,
   "id": "8d524acd",
   "metadata": {},
   "outputs": [
    {
     "data": {
      "text/plain": [
       "0"
      ]
     },
     "execution_count": 38,
     "metadata": {},
     "output_type": "execute_result"
    }
   ],
   "source": [
    "soup_object = BeautifulSoup(response.content)\n",
    "agev = soup_object.find(text = 'Median resident age:')\n",
    "if agev is None:\n",
    "    value = 0\n",
    "else:\n",
    "    table = agev.find_next('table')\n",
    "    textvalue = table.find_all('td')[1].text\n",
    "    value = float(re.findall(r'\\d+\\.\\d+', textvalue)[0])\n",
    "value"
   ]
  },
  {
   "cell_type": "code",
   "execution_count": 156,
   "id": "04943792",
   "metadata": {},
   "outputs": [
    {
     "data": {
      "text/plain": [
       "448"
      ]
     },
     "execution_count": 156,
     "metadata": {},
     "output_type": "execute_result"
    }
   ],
   "source": [
    "len(medianAge)"
   ]
  },
  {
   "cell_type": "code",
   "execution_count": 157,
   "id": "b7d4c7eb",
   "metadata": {},
   "outputs": [],
   "source": [
    "medianAge2.extend(medianAge)"
   ]
  },
  {
   "cell_type": "code",
   "execution_count": 158,
   "id": "4ae7f51f",
   "metadata": {},
   "outputs": [
    {
     "data": {
      "text/plain": [
       "5429"
      ]
     },
     "execution_count": 158,
     "metadata": {},
     "output_type": "execute_result"
    }
   ],
   "source": [
    "len(medianAge2)"
   ]
  },
  {
   "cell_type": "code",
   "execution_count": 159,
   "id": "39cbee06",
   "metadata": {},
   "outputs": [],
   "source": [
    "age2 = medianAge2.copy()\n",
    "age2.extend([0] * (zipCode_data.shape[0] - len(age2)))\n",
    "zipCode_data['Age'] = age2\n",
    "zipCode_data.to_csv('Zip_Code.csv', index = False)"
   ]
  },
  {
   "cell_type": "code",
   "execution_count": 155,
   "id": "96d13ddd",
   "metadata": {},
   "outputs": [],
   "source": [
    "medianAge = []\n",
    "\n",
    "for i in range(4981, zipCode_data.shape[0]):\n",
    "    url = zipCode_data['Website'][i]\n",
    "    response = requests.get(url)\n",
    "    soup_object = BeautifulSoup(response.content)\n",
    "    agev = soup_object.find(text = 'Median resident age:')\n",
    "    if agev is None:\n",
    "        value = 0\n",
    "    else:\n",
    "        table = agev.find_next('table')\n",
    "        textvalue = table.find_all('td')[1].text\n",
    "        value = float(re.findall(r'\\d+\\.\\d+', textvalue)[0])\n",
    "    medianAge.append(value)"
   ]
  },
  {
   "cell_type": "code",
   "execution_count": null,
   "id": "c0d1ac42",
   "metadata": {},
   "outputs": [],
   "source": []
  }
 ],
 "metadata": {
  "kernelspec": {
   "display_name": "Python 3 (ipykernel)",
   "language": "python",
   "name": "python3"
  },
  "language_info": {
   "codemirror_mode": {
    "name": "ipython",
    "version": 3
   },
   "file_extension": ".py",
   "mimetype": "text/x-python",
   "name": "python",
   "nbconvert_exporter": "python",
   "pygments_lexer": "ipython3",
   "version": "3.9.13"
  }
 },
 "nbformat": 4,
 "nbformat_minor": 5
}
